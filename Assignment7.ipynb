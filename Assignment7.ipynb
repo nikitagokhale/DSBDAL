{
 "cells": [
  {
   "cell_type": "code",
   "execution_count": 29,
   "id": "35c2b2ef",
   "metadata": {},
   "outputs": [
    {
     "name": "stdout",
     "output_type": "stream",
     "text": [
      "they wandered into a strange tiki bar on the edge of the small beach town every manager should be able to recite at least ten nursery rhymes backward find bar near beach\n",
      "iguanas wandered were falling out of the trees the sunblock was handed to the girl before practice but the burned skin was proof she did not apply it better she must have used sunblock\n"
     ]
    }
   ],
   "source": [
    "import string\n",
    "text1 = \"They wandered into a strange Tiki bar on the edge of the small beach town. Every manager should be able to recite at least ten nursery rhymes backward. Find bar near beach\"\n",
    "text2 = \"Iguanas wandered were falling out of the trees. The sunblock was handed to the girl before practice, but the burned skin was proof she did not apply it. Better she must have used sunblock\"\n",
    "text1 = text1.lower()\n",
    "text2 = text2.lower()\n",
    "text1 = text1.translate(str.maketrans('','',string.punctuation))\n",
    "text2 = text2.translate(str.maketrans('','',string.punctuation))\n",
    "print(text1)\n",
    "print(text2)"
   ]
  },
  {
   "cell_type": "code",
   "execution_count": 30,
   "id": "e969695c",
   "metadata": {},
   "outputs": [
    {
     "name": "stdout",
     "output_type": "stream",
     "text": [
      "['they wandered into a strange tiki bar on the edge of the small beach town every manager should be able to recite at least ten nursery rhymes backward find bar near beach']\n",
      "['iguanas wandered were falling out of the trees the sunblock was handed to the girl before practice but the burned skin was proof she did not apply it better she must have used sunblock']\n"
     ]
    }
   ],
   "source": [
    "import nltk\n",
    "tokenized_text1 = nltk.sent_tokenize(text1)\n",
    "tokenized_text2 = nltk.sent_tokenize(text2)\n",
    "print(tokenized_text1)\n",
    "print(tokenized_text2)"
   ]
  },
  {
   "cell_type": "code",
   "execution_count": 31,
   "id": "3be10f54",
   "metadata": {},
   "outputs": [
    {
     "name": "stdout",
     "output_type": "stream",
     "text": [
      "{'other', 'herself', 'between', 'only', 'isn', 'hers', 'to', \"didn't\", 'yours', 'all', 'whom', 'needn', \"shouldn't\", 'this', 'couldn', 'your', \"hadn't\", 'she', 'theirs', 'more', 'just', 'have', 'mustn', 'her', 'doesn', 'or', 'was', 'ours', \"you'd\", \"that'll\", 'in', 'these', 'under', 'here', 'because', 'above', 'a', 'too', 'now', 'wouldn', 'him', 'up', 'shan', 's', 'out', \"mightn't\", 'am', 'himself', 'why', 'own', 'such', 've', \"doesn't\", 'weren', 'not', 'don', 'myself', 'then', 'were', 'ma', 'no', 'we', 'off', 'once', 'hadn', 'd', 'o', 'into', 'yourselves', 'didn', 'shouldn', 'won', 'during', 'when', \"isn't\", 'm', 'on', 'with', 'over', 'it', 'very', 'same', 'at', \"she's\", 'they', 'an', 'been', 'those', 'do', 'both', 'down', \"won't\", 're', \"needn't\", 'are', \"you'll\", \"it's\", 'as', \"weren't\", 'does', 'has', 'but', 'their', 'how', 'itself', 'each', \"mustn't\", 'haven', \"you're\", 'doing', 'while', 'did', 'had', 't', 'nor', 'who', 'be', 'having', 'again', 'our', 'yourself', 'is', 'below', 'any', \"don't\", \"hasn't\", 'me', 'aren', 'hasn', \"should've\", \"couldn't\", 'you', \"you've\", 'my', 'he', 'through', 'against', 'few', 'its', 'from', 'some', 'and', 'after', 'that', 'so', 'themselves', 'which', 'll', 'by', 'mightn', \"wasn't\", 'where', 'further', 'about', 'before', 'will', 'his', 'ourselves', 'them', 'ain', 'if', \"shan't\", 'until', 'there', 'what', \"wouldn't\", 'for', 'should', 'of', 'wasn', 'the', 'than', 'being', 'can', 'y', 'i', 'most', \"haven't\", \"aren't\"}\n"
     ]
    }
   ],
   "source": [
    "from nltk.corpus import stopwords\n",
    "stopWords = set(stopwords.words('english'))\n",
    "print(stopWords)"
   ]
  },
  {
   "cell_type": "code",
   "execution_count": 32,
   "id": "b0a3d133",
   "metadata": {},
   "outputs": [
    {
     "name": "stdout",
     "output_type": "stream",
     "text": [
      "****Output after Stop Words Removal Text 1*****\n",
      "\n",
      "['wandered', 'strange', 'tiki', 'bar', 'edge', 'small', 'beach', 'town', 'every', 'manager', 'able', 'recite', 'least', 'ten', 'nursery', 'rhymes', 'backward', 'find', 'bar', 'near', 'beach']\n",
      "\n",
      "\n",
      "****Output after Stop Words Removal Text 2*****\n",
      "\n",
      "['iguanas', 'wandered', 'falling', 'trees', 'sunblock', 'handed', 'girl', 'practice', 'burned', 'skin', 'proof', 'apply', 'better', 'must', 'used', 'sunblock']\n"
     ]
    }
   ],
   "source": [
    "#Stop words removal\n",
    "filtered1 = []\n",
    "filtered2 = []\n",
    "for i in tokenized_text1:\n",
    "    wordlist = nltk.word_tokenize(i)\n",
    "    for j in wordlist:\n",
    "        if not j in stopWords:\n",
    "            filtered1.append(j)\n",
    "for i in tokenized_text2:\n",
    "    wordlist = nltk.word_tokenize(i)\n",
    "    for j in wordlist:\n",
    "        if not j in stopWords:\n",
    "            filtered2.append(j)\n",
    "\n",
    "print(\"****Output after Stop Words Removal Text 1*****\\n\")\n",
    "print(filtered1)\n",
    "print(\"\\n\")\n",
    "print(\"****Output after Stop Words Removal Text 2*****\\n\")\n",
    "print(filtered2)\n"
   ]
  },
  {
   "cell_type": "code",
   "execution_count": 33,
   "id": "ef7d3b3f",
   "metadata": {},
   "outputs": [
    {
     "name": "stdout",
     "output_type": "stream",
     "text": [
      "*****Stemmed text 1*****\n",
      "\n",
      "{'wandered': 'wander', 'strange': 'strang', 'tiki': 'tiki', 'bar': 'bar', 'edge': 'edg', 'small': 'small', 'beach': 'beach', 'town': 'town', 'every': 'everi', 'manager': 'manag', 'able': 'abl', 'recite': 'recit', 'least': 'least', 'ten': 'ten', 'nursery': 'nurseri', 'rhymes': 'rhyme', 'backward': 'backward', 'find': 'find', 'near': 'near'}\n",
      "\n",
      "\n",
      "*****Stemmed text 2*****\n",
      "\n",
      "{'iguanas': 'iguana', 'wandered': 'wander', 'falling': 'fall', 'trees': 'tree', 'sunblock': 'sunblock', 'handed': 'hand', 'girl': 'girl', 'practice': 'practic', 'burned': 'burn', 'skin': 'skin', 'proof': 'proof', 'apply': 'appli', 'better': 'better', 'must': 'must', 'used': 'use'}\n"
     ]
    }
   ],
   "source": [
    "#stemming\n",
    "stemmed1 = {}\n",
    "stemmed2 = {}\n",
    "from nltk.stem import PorterStemmer\n",
    "ps = PorterStemmer()\n",
    "for i in filtered1:\n",
    "    stemmed1.update({i : ps.stem(i)})\n",
    "for i in filtered2:\n",
    "    stemmed2.update({i : ps.stem(i)})\n",
    "print(\"*****Stemmed text 1*****\\n\")\n",
    "print(stemmed1)\n",
    "print(\"\\n\")\n",
    "print(\"*****Stemmed text 2*****\\n\")\n",
    "print(stemmed2)\n"
   ]
  },
  {
   "cell_type": "code",
   "execution_count": 34,
   "id": "a4e3f6b5",
   "metadata": {},
   "outputs": [
    {
     "name": "stdout",
     "output_type": "stream",
     "text": [
      "******Lemmetized Text 1*****\n",
      "\n",
      "{'wandered': 'wandered', 'strange': 'strange', 'tiki': 'tiki', 'bar': 'bar', 'edge': 'edge', 'small': 'small', 'beach': 'beach', 'town': 'town', 'every': 'every', 'manager': 'manager', 'able': 'able', 'recite': 'recite', 'least': 'least', 'ten': 'ten', 'nursery': 'nursery', 'rhymes': 'rhyme', 'backward': 'backward', 'find': 'find', 'near': 'near'}\n",
      "\n",
      "\n",
      "******Lemmetized Text 2*****\n",
      "\n",
      "{'iguanas': 'iguanas', 'wandered': 'wandered', 'falling': 'falling', 'trees': 'trees', 'sunblock': 'sunblock', 'handed': 'handed', 'girl': 'girl', 'practice': 'practice', 'burned': 'burned', 'skin': 'skin', 'proof': 'proof', 'apply': 'apply', 'better': 'good', 'must': 'must', 'used': 'used'}\n"
     ]
    }
   ],
   "source": [
    "#lemmitization\n",
    "from nltk.stem import WordNetLemmatizer\n",
    "lemmatizer = WordNetLemmatizer()\n",
    "lemmed1 = {}\n",
    "lemmed2 = {}\n",
    "for i in filtered1:\n",
    "    lemmed1.update({i:lemmatizer.lemmatize(i)})\n",
    "    \n",
    "for i in filtered2:\n",
    "    lemmed2.update({i:lemmatizer.lemmatize(i, pos=\"a\")})\n",
    "    \n",
    "print(\"******Lemmetized Text 1*****\\n\")\n",
    "print(lemmed1)\n",
    "print(\"\\n\")\n",
    "print(\"******Lemmetized Text 2*****\\n\")\n",
    "print(lemmed2)\n"
   ]
  },
  {
   "cell_type": "code",
   "execution_count": 35,
   "id": "e69231ea",
   "metadata": {},
   "outputs": [
    {
     "name": "stdout",
     "output_type": "stream",
     "text": [
      "****POS OF TEXT 1\n",
      "\n",
      "[('wandered', 'JJ'), ('strange', 'JJ'), ('tiki', 'NN'), ('bar', 'NN'), ('edge', 'VBP'), ('small', 'JJ'), ('beach', 'NN'), ('town', 'NN'), ('every', 'DT'), ('manager', 'NN'), ('able', 'JJ'), ('recite', 'NN'), ('least', 'JJS'), ('ten', 'JJ'), ('nursery', 'JJ'), ('rhymes', 'NNS'), ('backward', 'RB'), ('find', 'VBP'), ('bar', 'NN'), ('near', 'IN'), ('beach', 'NN')]\n",
      "****POS OF TEXT 2\n",
      "\n",
      "[('iguanas', 'NNS'), ('wandered', 'VBD'), ('falling', 'VBG'), ('trees', 'NNS'), ('sunblock', 'RB'), ('handed', 'VBD'), ('girl', 'JJ'), ('practice', 'NN'), ('burned', 'VBD'), ('skin', 'JJ'), ('proof', 'NN'), ('apply', 'VB'), ('better', 'JJR'), ('must', 'MD'), ('used', 'VBN'), ('sunblock', 'NN')]\n"
     ]
    }
   ],
   "source": [
    "#Parts Of Speech\n",
    "pos1 = []\n",
    "pos2 = []\n",
    "print(\"****POS OF TEXT 1\\n\")\n",
    "print(nltk.pos_tag(filtered1))\n",
    "print(\"****POS OF TEXT 2\\n\")\n",
    "print(nltk.pos_tag(filtered2))"
   ]
  },
  {
   "cell_type": "code",
   "execution_count": 36,
   "id": "85b8281e",
   "metadata": {},
   "outputs": [
    {
     "name": "stdout",
     "output_type": "stream",
     "text": [
      "{'wandered': 0.047619047619047616, 'strange': 0.047619047619047616, 'tiki': 0.047619047619047616, 'bar': 0.09523809523809523, 'edge': 0.047619047619047616, 'small': 0.047619047619047616, 'beach': 0.09523809523809523, 'town': 0.047619047619047616, 'every': 0.047619047619047616, 'manager': 0.047619047619047616, 'able': 0.047619047619047616, 'recite': 0.047619047619047616, 'least': 0.047619047619047616, 'ten': 0.047619047619047616, 'nursery': 0.047619047619047616, 'rhymes': 0.047619047619047616, 'backward': 0.047619047619047616, 'find': 0.047619047619047616, 'near': 0.047619047619047616}\n",
      "{'iguanas': 0.0625, 'wandered': 0.0625, 'falling': 0.0625, 'trees': 0.0625, 'sunblock': 0.125, 'handed': 0.0625, 'girl': 0.0625, 'practice': 0.0625, 'burned': 0.0625, 'skin': 0.0625, 'proof': 0.0625, 'apply': 0.0625, 'better': 0.0625, 'must': 0.0625, 'used': 0.0625}\n"
     ]
    }
   ],
   "source": [
    "term_frequency1 = {}\n",
    "term_frequency2 = {}\n",
    "for i in filtered1:\n",
    "    term_frequency1.update({i:(filtered1.count(i))/len(filtered1)})\n",
    "for i in filtered2:\n",
    "    term_frequency2.update({i:(filtered2.count(i))/len(filtered2)})\n",
    "print(term_frequency1)\n",
    "print(term_frequency2)"
   ]
  },
  {
   "cell_type": "code",
   "execution_count": 37,
   "id": "cdfeddc3",
   "metadata": {},
   "outputs": [
    {
     "name": "stdout",
     "output_type": "stream",
     "text": [
      "{'wandered': 0.0, 'strange': 0.6931471805599453, 'tiki': 0.6931471805599453, 'bar': 0.6931471805599453, 'edge': 0.6931471805599453, 'small': 0.6931471805599453, 'beach': 0.6931471805599453, 'town': 0.6931471805599453, 'every': 0.6931471805599453, 'manager': 0.6931471805599453, 'able': 0.6931471805599453, 'recite': 0.6931471805599453, 'least': 0.6931471805599453, 'ten': 0.6931471805599453, 'nursery': 0.6931471805599453, 'rhymes': 0.6931471805599453, 'backward': 0.6931471805599453, 'find': 0.6931471805599453, 'near': 0.6931471805599453}\n"
     ]
    }
   ],
   "source": [
    "import math\n",
    "ifd1 = {}\n",
    "ifd2 = {}\n",
    "for i in filtered1:\n",
    "    cnt = 0;\n",
    "    if(filtered1.count(i)>0):\n",
    "        cnt+=1\n",
    "    if(filtered2.count(i)>0):\n",
    "        cnt+=1\n",
    "        \n",
    "    f = math.log(2/cnt)\n",
    "    ifd1.update({i:f})\n",
    "print(ifd1)"
   ]
  },
  {
   "cell_type": "code",
   "execution_count": null,
   "id": "339b5e98",
   "metadata": {},
   "outputs": [],
   "source": []
  },
  {
   "cell_type": "code",
   "execution_count": null,
   "id": "b8ccce83",
   "metadata": {},
   "outputs": [],
   "source": []
  }
 ],
 "metadata": {
  "kernelspec": {
   "display_name": "Python 3",
   "language": "python",
   "name": "python3"
  },
  "language_info": {
   "codemirror_mode": {
    "name": "ipython",
    "version": 3
   },
   "file_extension": ".py",
   "mimetype": "text/x-python",
   "name": "python",
   "nbconvert_exporter": "python",
   "pygments_lexer": "ipython3",
   "version": "3.8.10"
  }
 },
 "nbformat": 4,
 "nbformat_minor": 5
}
