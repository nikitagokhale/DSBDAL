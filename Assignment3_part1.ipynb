{
 "cells": [
  {
   "cell_type": "code",
   "execution_count": 4,
   "id": "c431703f",
   "metadata": {},
   "outputs": [],
   "source": [
    "import pandas as pd"
   ]
  },
  {
   "cell_type": "code",
   "execution_count": 5,
   "id": "2282002a",
   "metadata": {},
   "outputs": [],
   "source": [
    "df=pd.read_csv(\"adult.csv\")"
   ]
  },
  {
   "cell_type": "code",
   "execution_count": 6,
   "id": "53a71840",
   "metadata": {},
   "outputs": [
    {
     "name": "stdout",
     "output_type": "stream",
     "text": [
      "       age     workclass  fnlwgt     education  educational-num  \\\n",
      "0       25       Private  226802          11th                7   \n",
      "1       38       Private   89814       HS-grad                9   \n",
      "2       28     Local-gov  336951    Assoc-acdm               12   \n",
      "3       44       Private  160323  Some-college               10   \n",
      "4       18             ?  103497  Some-college               10   \n",
      "...    ...           ...     ...           ...              ...   \n",
      "48837   27       Private  257302    Assoc-acdm               12   \n",
      "48838   40       Private  154374       HS-grad                9   \n",
      "48839   58       Private  151910       HS-grad                9   \n",
      "48840   22       Private  201490       HS-grad                9   \n",
      "48841   52  Self-emp-inc  287927       HS-grad                9   \n",
      "\n",
      "           marital-status         occupation relationship   race  gender  \\\n",
      "0           Never-married  Machine-op-inspct    Own-child  Black    Male   \n",
      "1      Married-civ-spouse    Farming-fishing      Husband  White    Male   \n",
      "2      Married-civ-spouse    Protective-serv      Husband  White    Male   \n",
      "3      Married-civ-spouse  Machine-op-inspct      Husband  Black    Male   \n",
      "4           Never-married                  ?    Own-child  White  Female   \n",
      "...                   ...                ...          ...    ...     ...   \n",
      "48837  Married-civ-spouse       Tech-support         Wife  White  Female   \n",
      "48838  Married-civ-spouse  Machine-op-inspct      Husband  White    Male   \n",
      "48839             Widowed       Adm-clerical    Unmarried  White  Female   \n",
      "48840       Never-married       Adm-clerical    Own-child  White    Male   \n",
      "48841  Married-civ-spouse    Exec-managerial         Wife  White  Female   \n",
      "\n",
      "       capital-gain  capital-loss  hours-per-week native-country income  \n",
      "0                 0             0              40  United-States  <=50K  \n",
      "1                 0             0              50  United-States  <=50K  \n",
      "2                 0             0              40  United-States   >50K  \n",
      "3              7688             0              40  United-States   >50K  \n",
      "4                 0             0              30  United-States  <=50K  \n",
      "...             ...           ...             ...            ...    ...  \n",
      "48837             0             0              38  United-States  <=50K  \n",
      "48838             0             0              40  United-States   >50K  \n",
      "48839             0             0              40  United-States  <=50K  \n",
      "48840             0             0              20  United-States  <=50K  \n",
      "48841         15024             0              40  United-States   >50K  \n",
      "\n",
      "[48842 rows x 15 columns]\n"
     ]
    }
   ],
   "source": [
    "print(df)"
   ]
  },
  {
   "cell_type": "code",
   "execution_count": 7,
   "id": "5b5e4549",
   "metadata": {},
   "outputs": [],
   "source": [
    "df['Age_bin'] = pd.cut(x=df['age'], bins=[1, 20, 40, 60, 80, 100],\n",
    "                    labels=['1 to 20', '20 to 40', '40 to 60','60 to 80', '80 to 100'])\n"
   ]
  },
  {
   "cell_type": "code",
   "execution_count": 8,
   "id": "8a0b1fc3",
   "metadata": {
    "scrolled": true
   },
   "outputs": [
    {
     "name": "stdout",
     "output_type": "stream",
     "text": [
      "       age     workclass  fnlwgt     education  educational-num  \\\n",
      "0       25       Private  226802          11th                7   \n",
      "1       38       Private   89814       HS-grad                9   \n",
      "2       28     Local-gov  336951    Assoc-acdm               12   \n",
      "3       44       Private  160323  Some-college               10   \n",
      "4       18             ?  103497  Some-college               10   \n",
      "...    ...           ...     ...           ...              ...   \n",
      "48837   27       Private  257302    Assoc-acdm               12   \n",
      "48838   40       Private  154374       HS-grad                9   \n",
      "48839   58       Private  151910       HS-grad                9   \n",
      "48840   22       Private  201490       HS-grad                9   \n",
      "48841   52  Self-emp-inc  287927       HS-grad                9   \n",
      "\n",
      "           marital-status         occupation relationship   race  gender  \\\n",
      "0           Never-married  Machine-op-inspct    Own-child  Black    Male   \n",
      "1      Married-civ-spouse    Farming-fishing      Husband  White    Male   \n",
      "2      Married-civ-spouse    Protective-serv      Husband  White    Male   \n",
      "3      Married-civ-spouse  Machine-op-inspct      Husband  Black    Male   \n",
      "4           Never-married                  ?    Own-child  White  Female   \n",
      "...                   ...                ...          ...    ...     ...   \n",
      "48837  Married-civ-spouse       Tech-support         Wife  White  Female   \n",
      "48838  Married-civ-spouse  Machine-op-inspct      Husband  White    Male   \n",
      "48839             Widowed       Adm-clerical    Unmarried  White  Female   \n",
      "48840       Never-married       Adm-clerical    Own-child  White    Male   \n",
      "48841  Married-civ-spouse    Exec-managerial         Wife  White  Female   \n",
      "\n",
      "       capital-gain  capital-loss  hours-per-week native-country income  \\\n",
      "0                 0             0              40  United-States  <=50K   \n",
      "1                 0             0              50  United-States  <=50K   \n",
      "2                 0             0              40  United-States   >50K   \n",
      "3              7688             0              40  United-States   >50K   \n",
      "4                 0             0              30  United-States  <=50K   \n",
      "...             ...           ...             ...            ...    ...   \n",
      "48837             0             0              38  United-States  <=50K   \n",
      "48838             0             0              40  United-States   >50K   \n",
      "48839             0             0              40  United-States  <=50K   \n",
      "48840             0             0              20  United-States  <=50K   \n",
      "48841         15024             0              40  United-States   >50K   \n",
      "\n",
      "        Age_bin  \n",
      "0      20 to 40  \n",
      "1      20 to 40  \n",
      "2      20 to 40  \n",
      "3      40 to 60  \n",
      "4       1 to 20  \n",
      "...         ...  \n",
      "48837  20 to 40  \n",
      "48838  20 to 40  \n",
      "48839  40 to 60  \n",
      "48840  20 to 40  \n",
      "48841  40 to 60  \n",
      "\n",
      "[48842 rows x 16 columns]\n"
     ]
    }
   ],
   "source": [
    "print(df)\n"
   ]
  },
  {
   "cell_type": "code",
   "execution_count": 9,
   "id": "a73f2279",
   "metadata": {},
   "outputs": [
    {
     "name": "stdout",
     "output_type": "stream",
     "text": [
      "[20 to 40, 40 to 60, 1 to 20, 60 to 80, 80 to 100]\n",
      "Categories (5, object): [1 to 20 < 20 to 40 < 40 to 60 < 60 to 80 < 80 to 100]\n"
     ]
    }
   ],
   "source": [
    "print(df['Age_bin'].unique())"
   ]
  },
  {
   "cell_type": "code",
   "execution_count": 10,
   "id": "eb191c54",
   "metadata": {},
   "outputs": [],
   "source": [
    "grouped = df.groupby('gender').agg({'age': ['mean']})"
   ]
  },
  {
   "cell_type": "code",
   "execution_count": 11,
   "id": "b6fe090d",
   "metadata": {},
   "outputs": [
    {
     "name": "stdout",
     "output_type": "stream",
     "text": [
      "              age\n",
      "             mean\n",
      "gender           \n",
      "Female  36.927989\n",
      "Male    39.494395\n"
     ]
    }
   ],
   "source": [
    "print(grouped)"
   ]
  },
  {
   "cell_type": "code",
   "execution_count": 12,
   "id": "51c93630",
   "metadata": {},
   "outputs": [],
   "source": [
    "grouped = df.groupby('gender').agg({'age': ['median']})"
   ]
  },
  {
   "cell_type": "code",
   "execution_count": 13,
   "id": "ec1f714e",
   "metadata": {},
   "outputs": [
    {
     "name": "stdout",
     "output_type": "stream",
     "text": [
      "          age\n",
      "       median\n",
      "gender       \n",
      "Female     35\n",
      "Male       38\n"
     ]
    }
   ],
   "source": [
    "print(grouped)"
   ]
  },
  {
   "cell_type": "code",
   "execution_count": 14,
   "id": "24b89121",
   "metadata": {},
   "outputs": [],
   "source": [
    "grouped = df.groupby('gender').agg({'age': ['min']})"
   ]
  },
  {
   "cell_type": "code",
   "execution_count": 15,
   "id": "e8ed67b6",
   "metadata": {},
   "outputs": [
    {
     "name": "stdout",
     "output_type": "stream",
     "text": [
      "       age\n",
      "       min\n",
      "gender    \n",
      "Female  17\n",
      "Male    17\n"
     ]
    }
   ],
   "source": [
    "print(grouped)"
   ]
  },
  {
   "cell_type": "code",
   "execution_count": 16,
   "id": "6c174d66",
   "metadata": {},
   "outputs": [],
   "source": [
    "grouped = df.groupby('gender').agg({'age': ['max']})"
   ]
  },
  {
   "cell_type": "code",
   "execution_count": 17,
   "id": "e2c88654",
   "metadata": {},
   "outputs": [
    {
     "name": "stdout",
     "output_type": "stream",
     "text": [
      "       age\n",
      "       max\n",
      "gender    \n",
      "Female  90\n",
      "Male    90\n"
     ]
    }
   ],
   "source": [
    "print(grouped)"
   ]
  },
  {
   "cell_type": "code",
   "execution_count": 18,
   "id": "acf2b650",
   "metadata": {},
   "outputs": [
    {
     "name": "stdout",
     "output_type": "stream",
     "text": [
      "       age     workclass  fnlwgt     education  educational-num  \\\n",
      "0       25       Private  226802          11th                7   \n",
      "1       38       Private   89814       HS-grad                9   \n",
      "2       28     Local-gov  336951    Assoc-acdm               12   \n",
      "3       44       Private  160323  Some-college               10   \n",
      "4       18             ?  103497  Some-college               10   \n",
      "...    ...           ...     ...           ...              ...   \n",
      "48837   27       Private  257302    Assoc-acdm               12   \n",
      "48838   40       Private  154374       HS-grad                9   \n",
      "48839   58       Private  151910       HS-grad                9   \n",
      "48840   22       Private  201490       HS-grad                9   \n",
      "48841   52  Self-emp-inc  287927       HS-grad                9   \n",
      "\n",
      "           marital-status         occupation relationship   race  gender  \\\n",
      "0           Never-married  Machine-op-inspct    Own-child  Black    Male   \n",
      "1      Married-civ-spouse    Farming-fishing      Husband  White    Male   \n",
      "2      Married-civ-spouse    Protective-serv      Husband  White    Male   \n",
      "3      Married-civ-spouse  Machine-op-inspct      Husband  Black    Male   \n",
      "4           Never-married                  ?    Own-child  White  Female   \n",
      "...                   ...                ...          ...    ...     ...   \n",
      "48837  Married-civ-spouse       Tech-support         Wife  White  Female   \n",
      "48838  Married-civ-spouse  Machine-op-inspct      Husband  White    Male   \n",
      "48839             Widowed       Adm-clerical    Unmarried  White  Female   \n",
      "48840       Never-married       Adm-clerical    Own-child  White    Male   \n",
      "48841  Married-civ-spouse    Exec-managerial         Wife  White  Female   \n",
      "\n",
      "       capital-gain  capital-loss  hours-per-week native-country income  \\\n",
      "0                 0             0              40  United-States  <=50K   \n",
      "1                 0             0              50  United-States  <=50K   \n",
      "2                 0             0              40  United-States   >50K   \n",
      "3              7688             0              40  United-States   >50K   \n",
      "4                 0             0              30  United-States  <=50K   \n",
      "...             ...           ...             ...            ...    ...   \n",
      "48837             0             0              38  United-States  <=50K   \n",
      "48838             0             0              40  United-States   >50K   \n",
      "48839             0             0              40  United-States  <=50K   \n",
      "48840             0             0              20  United-States  <=50K   \n",
      "48841         15024             0              40  United-States   >50K   \n",
      "\n",
      "        Age_bin  \n",
      "0      20 to 40  \n",
      "1      20 to 40  \n",
      "2      20 to 40  \n",
      "3      40 to 60  \n",
      "4       1 to 20  \n",
      "...         ...  \n",
      "48837  20 to 40  \n",
      "48838  20 to 40  \n",
      "48839  40 to 60  \n",
      "48840  20 to 40  \n",
      "48841  40 to 60  \n",
      "\n",
      "[48842 rows x 16 columns]\n"
     ]
    }
   ],
   "source": [
    "print(df)"
   ]
  },
  {
   "cell_type": "code",
   "execution_count": null,
   "id": "524a4cec",
   "metadata": {},
   "outputs": [],
   "source": []
  }
 ],
 "metadata": {
  "kernelspec": {
   "display_name": "Python 3",
   "language": "python",
   "name": "python3"
  },
  "language_info": {
   "codemirror_mode": {
    "name": "ipython",
    "version": 3
   },
   "file_extension": ".py",
   "mimetype": "text/x-python",
   "name": "python",
   "nbconvert_exporter": "python",
   "pygments_lexer": "ipython3",
   "version": "3.8.10"
  }
 },
 "nbformat": 4,
 "nbformat_minor": 5
}
