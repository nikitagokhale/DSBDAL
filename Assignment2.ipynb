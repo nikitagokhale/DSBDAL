{
 "cells": [
  {
   "cell_type": "code",
   "execution_count": 2,
   "id": "881baffa-4725-4599-9338-b340b5b5e1f8",
   "metadata": {
    "tags": []
   },
   "outputs": [
    {
     "data": {
      "text/html": [
       "<div>\n",
       "<style scoped>\n",
       "    .dataframe tbody tr th:only-of-type {\n",
       "        vertical-align: middle;\n",
       "    }\n",
       "\n",
       "    .dataframe tbody tr th {\n",
       "        vertical-align: top;\n",
       "    }\n",
       "\n",
       "    .dataframe thead th {\n",
       "        text-align: right;\n",
       "    }\n",
       "</style>\n",
       "<table border=\"1\" class=\"dataframe\">\n",
       "  <thead>\n",
       "    <tr style=\"text-align: right;\">\n",
       "      <th></th>\n",
       "      <th>math score</th>\n",
       "      <th>reading score</th>\n",
       "      <th>writing score</th>\n",
       "    </tr>\n",
       "  </thead>\n",
       "  <tbody>\n",
       "    <tr>\n",
       "      <th>count</th>\n",
       "      <td>994.000000</td>\n",
       "      <td>994.000000</td>\n",
       "      <td>994.000000</td>\n",
       "    </tr>\n",
       "    <tr>\n",
       "      <th>mean</th>\n",
       "      <td>66.081489</td>\n",
       "      <td>69.137827</td>\n",
       "      <td>68.094567</td>\n",
       "    </tr>\n",
       "    <tr>\n",
       "      <th>std</th>\n",
       "      <td>15.172668</td>\n",
       "      <td>14.603732</td>\n",
       "      <td>15.182844</td>\n",
       "    </tr>\n",
       "    <tr>\n",
       "      <th>min</th>\n",
       "      <td>0.000000</td>\n",
       "      <td>17.000000</td>\n",
       "      <td>10.000000</td>\n",
       "    </tr>\n",
       "    <tr>\n",
       "      <th>25%</th>\n",
       "      <td>57.000000</td>\n",
       "      <td>59.000000</td>\n",
       "      <td>58.000000</td>\n",
       "    </tr>\n",
       "    <tr>\n",
       "      <th>50%</th>\n",
       "      <td>66.000000</td>\n",
       "      <td>70.000000</td>\n",
       "      <td>69.000000</td>\n",
       "    </tr>\n",
       "    <tr>\n",
       "      <th>75%</th>\n",
       "      <td>77.000000</td>\n",
       "      <td>79.000000</td>\n",
       "      <td>79.000000</td>\n",
       "    </tr>\n",
       "    <tr>\n",
       "      <th>max</th>\n",
       "      <td>100.000000</td>\n",
       "      <td>100.000000</td>\n",
       "      <td>100.000000</td>\n",
       "    </tr>\n",
       "  </tbody>\n",
       "</table>\n",
       "</div>"
      ],
      "text/plain": [
       "       math score  reading score  writing score\n",
       "count  994.000000     994.000000     994.000000\n",
       "mean    66.081489      69.137827      68.094567\n",
       "std     15.172668      14.603732      15.182844\n",
       "min      0.000000      17.000000      10.000000\n",
       "25%     57.000000      59.000000      58.000000\n",
       "50%     66.000000      70.000000      69.000000\n",
       "75%     77.000000      79.000000      79.000000\n",
       "max    100.000000     100.000000     100.000000"
      ]
     },
     "execution_count": 2,
     "metadata": {},
     "output_type": "execute_result"
    }
   ],
   "source": [
    "import pandas as pd\n",
    "df = pd.read_csv('StudentsPerformance.csv')\n",
    "df.describe()"
   ]
  },
  {
   "cell_type": "code",
   "execution_count": 3,
   "id": "d346c98a-bee4-459f-a543-e80472557f21",
   "metadata": {
    "tags": []
   },
   "outputs": [],
   "source": [
    "df['math score'].fillna(66.081489, inplace = True)\n",
    "df['reading score'].fillna(69.137827, inplace = True)\n",
    "df['writing score'].fillna(68.094567, inplace = True)"
   ]
  },
  {
   "cell_type": "code",
   "execution_count": 4,
   "id": "f996e073-c58e-4966-9abd-97208143985b",
   "metadata": {
    "tags": []
   },
   "outputs": [],
   "source": [
    "import numpy as np\n",
    "maths = np.array(df['math score'])\n",
    "reading = np.array(df['reading score'])\n",
    "writing = np.array(df['writing score'])"
   ]
  },
  {
   "cell_type": "code",
   "execution_count": 5,
   "id": "4b2892a4-0a49-4424-915b-9e7b6808830d",
   "metadata": {
    "tags": []
   },
   "outputs": [
    {
     "data": {
      "text/plain": [
       "<AxesSubplot: >"
      ]
     },
     "execution_count": 5,
     "metadata": {},
     "output_type": "execute_result"
    },
    {
     "data": {
      "image/png": "[encoded data removed]",
      "text/plain": [
       "<Figure size 640x480 with 1 Axes>"
      ]
     },
     "metadata": {},
     "output_type": "display_data"
    }
   ],
   "source": [
    "df.plot.box(grid = True)"
   ]
  },
  {
   "cell_type": "code",
   "execution_count": 6,
   "id": "cecf653a-080e-4016-9b86-50a814580c39",
   "metadata": {
    "tags": []
   },
   "outputs": [],
   "source": [
    "def inter_quantile(col):\n",
    "    outliers = []\n",
    "    filtered = []\n",
    "    Q3 = np.quantile(col, 0.75)\n",
    "    Q1 = np.quantile(col, 0.25)\n",
    "    IQR = Q3 - Q1\n",
    "    upper_range = Q3 + (1.5 * IQR)\n",
    "    lower_range = Q1 - (1.5 * IQR)\n",
    "    for i in col:\n",
    "        if i > lower_range and i < upper_range:\n",
    "            filtered.append(i)\n",
    "        else:\n",
    "            outliers.append(i)\n",
    "    return filtered\n",
    "    print(outliers)"
   ]
  },
  {
   "cell_type": "code",
   "execution_count": 7,
   "id": "7a16dea2-e7af-4e81-8fc1-ebc1b5b54cbc",
   "metadata": {
    "tags": []
   },
   "outputs": [],
   "source": [
    "o1 = inter_quantile(df['math score'])\n",
    "o2 = inter_quantile(df['reading score'])\n",
    "o3 = inter_quantile(df['writing score'])"
   ]
  },
  {
   "cell_type": "code",
   "execution_count": 11,
   "id": "c06a7461-d943-4479-af1f-731ce8275d6b",
   "metadata": {
    "tags": []
   },
   "outputs": [
    {
     "data": {
      "text/plain": [
       "{'whiskers': [<matplotlib.lines.Line2D at 0x1d718886ad0>,\n",
       "  <matplotlib.lines.Line2D at 0x1d718886d70>],\n",
       " 'caps': [<matplotlib.lines.Line2D at 0x1d718887010>,\n",
       "  <matplotlib.lines.Line2D at 0x1d7188872b0>],\n",
       " 'boxes': [<matplotlib.lines.Line2D at 0x1d718886830>],\n",
       " 'medians': [<matplotlib.lines.Line2D at 0x1d718887430>],\n",
       " 'fliers': [<matplotlib.lines.Line2D at 0x1d7188876d0>],\n",
       " 'means': []}"
      ]
     },
     "execution_count": 11,
     "metadata": {},
     "output_type": "execute_result"
    },
    {
     "data": {
      "image/png": "[encoded data removed]",
      "text/plain": [
       "<Figure size 640x480 with 1 Axes>"
      ]
     },
     "metadata": {},
     "output_type": "display_data"
    }
   ],
   "source": [
    "import matplotlib.pyplot as plt\n",
    "plt.boxplot(df['math score'])"
   ]
  },
  {
   "cell_type": "code",
   "execution_count": 12,
   "id": "4911a4c4-a9d9-4b18-8a96-a20979a8f9ac",
   "metadata": {
    "tags": []
   },
   "outputs": [
    {
     "data": {
      "text/plain": [
       "{'whiskers': [<matplotlib.lines.Line2D at 0x1d7188c56f0>,\n",
       "  <matplotlib.lines.Line2D at 0x1d7188c5990>],\n",
       " 'caps': [<matplotlib.lines.Line2D at 0x1d7188c5c30>,\n",
       "  <matplotlib.lines.Line2D at 0x1d7188c5ed0>],\n",
       " 'boxes': [<matplotlib.lines.Line2D at 0x1d7188c5450>],\n",
       " 'medians': [<matplotlib.lines.Line2D at 0x1d7188c6170>],\n",
       " 'fliers': [<matplotlib.lines.Line2D at 0x1d7188c6410>],\n",
       " 'means': []}"
      ]
     },
     "execution_count": 12,
     "metadata": {},
     "output_type": "execute_result"
    },
    {
     "data": {
      "image/png": "[encoded data removed]",
      "text/plain": [
       "<Figure size 640x480 with 1 Axes>"
      ]
     },
     "metadata": {},
     "output_type": "display_data"
    }
   ],
   "source": [
    "plt.boxplot(o1)"
   ]
  },
  {
   "cell_type": "code",
   "execution_count": 13,
   "id": "0de23dae-a8ab-4287-beac-a89e1d39f1ec",
   "metadata": {
    "tags": []
   },
   "outputs": [
    {
     "data": {
      "text/plain": [
       "{'whiskers': [<matplotlib.lines.Line2D at 0x1d71889dae0>,\n",
       "  <matplotlib.lines.Line2D at 0x1d718921540>],\n",
       " 'caps': [<matplotlib.lines.Line2D at 0x1d7189217e0>,\n",
       "  <matplotlib.lines.Line2D at 0x1d718921a80>],\n",
       " 'boxes': [<matplotlib.lines.Line2D at 0x1d7188c72b0>],\n",
       " 'medians': [<matplotlib.lines.Line2D at 0x1d718921d20>],\n",
       " 'fliers': [<matplotlib.lines.Line2D at 0x1d718921fc0>],\n",
       " 'means': []}"
      ]
     },
     "execution_count": 13,
     "metadata": {},
     "output_type": "execute_result"
    },
    {
     "data": {
      "image/png": "[encoded data removed]",
      "text/plain": [
       "<Figure size 640x480 with 1 Axes>"
      ]
     },
     "metadata": {},
     "output_type": "display_data"
    }
   ],
   "source": [
    "plt.boxplot(df['reading score'])"
   ]
  },
  {
   "cell_type": "code",
   "execution_count": 14,
   "id": "4d7143ed-f38d-4739-966b-cacd26385fe6",
   "metadata": {
    "tags": []
   },
   "outputs": [
    {
     "data": {
      "text/plain": [
       "{'whiskers': [<matplotlib.lines.Line2D at 0x1d71aab76a0>,\n",
       "  <matplotlib.lines.Line2D at 0x1d71aab7940>],\n",
       " 'caps': [<matplotlib.lines.Line2D at 0x1d71aab7be0>,\n",
       "  <matplotlib.lines.Line2D at 0x1d71aab7e80>],\n",
       " 'boxes': [<matplotlib.lines.Line2D at 0x1d71aab7400>],\n",
       " 'medians': [<matplotlib.lines.Line2D at 0x1d71aaec160>],\n",
       " 'fliers': [<matplotlib.lines.Line2D at 0x1d71aaec400>],\n",
       " 'means': []}"
      ]
     },
     "execution_count": 14,
     "metadata": {},
     "output_type": "execute_result"
    },
    {
     "data": {
      "image/png": "[encoded data removed]",
      "text/plain": [
       "<Figure size 640x480 with 1 Axes>"
      ]
     },
     "metadata": {},
     "output_type": "display_data"
    }
   ],
   "source": [
    "plt.boxplot(o2)"
   ]
  },
  {
   "cell_type": "code",
   "execution_count": 15,
   "id": "ca4c76d8-74eb-479a-9423-760e9b9f4916",
   "metadata": {
    "tags": []
   },
   "outputs": [
    {
     "data": {
      "text/plain": [
       "{'whiskers': [<matplotlib.lines.Line2D at 0x1d71ab2f5b0>,\n",
       "  <matplotlib.lines.Line2D at 0x1d71ab2f850>],\n",
       " 'caps': [<matplotlib.lines.Line2D at 0x1d71ab2faf0>,\n",
       "  <matplotlib.lines.Line2D at 0x1d71ab2fd90>],\n",
       " 'boxes': [<matplotlib.lines.Line2D at 0x1d71ab2f310>],\n",
       " 'medians': [<matplotlib.lines.Line2D at 0x1d71894f820>],\n",
       " 'fliers': [<matplotlib.lines.Line2D at 0x1d71ab2fd60>],\n",
       " 'means': []}"
      ]
     },
     "execution_count": 15,
     "metadata": {},
     "output_type": "execute_result"
    },
    {
     "data": {
      "image/png": "[encoded data removed]",
      "text/plain": [
       "<Figure size 640x480 with 1 Axes>"
      ]
     },
     "metadata": {},
     "output_type": "display_data"
    }
   ],
   "source": [
    "plt.boxplot(df['writing score'])"
   ]
  },
  {
   "cell_type": "code",
   "execution_count": 16,
   "id": "c19f477e-bb7e-49c1-883e-458d81d70b16",
   "metadata": {
    "tags": []
   },
   "outputs": [
    {
     "data": {
      "text/plain": [
       "{'whiskers': [<matplotlib.lines.Line2D at 0x1d71bbc54b0>,\n",
       "  <matplotlib.lines.Line2D at 0x1d71bbc5750>],\n",
       " 'caps': [<matplotlib.lines.Line2D at 0x1d71bbc59f0>,\n",
       "  <matplotlib.lines.Line2D at 0x1d71bbc5c90>],\n",
       " 'boxes': [<matplotlib.lines.Line2D at 0x1d71bbc5330>],\n",
       " 'medians': [<matplotlib.lines.Line2D at 0x1d71bbc5f30>],\n",
       " 'fliers': [<matplotlib.lines.Line2D at 0x1d71bbc61d0>],\n",
       " 'means': []}"
      ]
     },
     "execution_count": 16,
     "metadata": {},
     "output_type": "execute_result"
    },
    {
     "data": {
      "image/png": "[encoded data removed]",
      "text/plain": [
       "<Figure size 640x480 with 1 Axes>"
      ]
     },
     "metadata": {},
     "output_type": "display_data"
    }
   ],
   "source": [
    "plt.boxplot(o3)"
   ]
  },
  {
   "cell_type": "code",
   "execution_count": 48,
   "id": "a160d643-b6a6-4ee1-9dd8-7c7d8fb3e307",
   "metadata": {},
   "outputs": [],
   "source": [
    "#Z- Score method\n",
    "from scipy import stats\n",
    "def z_score(col):\n",
    "    mean = np.mean(col)\n",
    "    std = np.std(col)\n",
    "    threshold = 3\n",
    "    outlier = []\n",
    "    op = []\n",
    "    for i in col:\n",
    "        z = (i-mean)/std\n",
    "        z = abs(z)\n",
    "        if z > threshold:\n",
    "            outlier.append(i)\n",
    "        else:\n",
    "            op.append(i)\n",
    "    return op\n",
    "    print('outlier in dataset is', outlier)"
   ]
  },
  {
   "cell_type": "code",
   "execution_count": 49,
   "id": "91800d45-631d-47c4-9d60-6f2ac3201cdb",
   "metadata": {
    "tags": []
   },
   "outputs": [],
   "source": [
    "o1 = z_score(maths)\n",
    "o2 = z_score(reading)\n",
    "o3 = z_score(writing)"
   ]
  },
  {
   "cell_type": "code",
   "execution_count": 53,
   "id": "3791d255-9449-4c0d-9044-fb84b9c800aa",
   "metadata": {
    "tags": []
   },
   "outputs": [
    {
     "data": {
      "text/plain": [
       "{'whiskers': [<matplotlib.lines.Line2D at 0x1d71c3d4cd0>,\n",
       "  <matplotlib.lines.Line2D at 0x1d71c3d4f70>],\n",
       " 'caps': [<matplotlib.lines.Line2D at 0x1d71c3d5210>,\n",
       "  <matplotlib.lines.Line2D at 0x1d71c3d54b0>],\n",
       " 'boxes': [<matplotlib.lines.Line2D at 0x1d71c3d4a30>],\n",
       " 'medians': [<matplotlib.lines.Line2D at 0x1d71c3d5750>],\n",
       " 'fliers': [<matplotlib.lines.Line2D at 0x1d71c3d59f0>],\n",
       " 'means': []}"
      ]
     },
     "execution_count": 53,
     "metadata": {},
     "output_type": "execute_result"
    },
    {
     "data": {
      "image/png": "[encoded data removed]",
      "text/plain": [
       "<Figure size 640x480 with 1 Axes>"
      ]
     },
     "metadata": {},
     "output_type": "display_data"
    }
   ],
   "source": [
    "plt.boxplot(o3)"
   ]
  },
  {
   "cell_type": "code",
   "execution_count": null,
   "id": "899c14a4-e815-44fc-b08f-c8da6d1294bb",
   "metadata": {},
   "outputs": [],
   "source": []
  }
 ],
 "metadata": {
  "kernelspec": {
   "display_name": "Python 3 (ipykernel)",
   "language": "python",
   "name": "python3"
  },
  "language_info": {
   "codemirror_mode": {
    "name": "ipython",
    "version": 3
   },
   "file_extension": ".py",
   "mimetype": "text/x-python",
   "name": "python",
   "nbconvert_exporter": "python",
   "pygments_lexer": "ipython3",
   "version": "3.10.7"
  }
 },
 "nbformat": 4,
 "nbformat_minor": 5
}
